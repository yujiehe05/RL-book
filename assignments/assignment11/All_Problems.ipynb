{
 "cells": [
  {
   "cell_type": "code",
   "execution_count": 13,
   "metadata": {},
   "outputs": [],
   "source": [
    "# import packages needed\n",
    "import itertools\n",
    "import numpy as np\n",
    "\n",
    "from typing import Iterable, Callable, Mapping, TypeVar, List\n",
    "from rl.markov_process import TransitionStep\n",
    "from rl.returns import returns\n",
    "from rl.function_approx import Tabular\n",
    "from rl.iterate import last\n",
    "from collections import defaultdict\n",
    "\n",
    "from rl.chapter2.simple_inventory_mrp import SimpleInventoryMRPFinite, InventoryState\n",
    "from rl.monte_carlo import mc_prediction\n",
    "from rl.td import td_prediction\n",
    "\n",
    "from rl.distribution import Constant"
   ]
  },
  {
   "cell_type": "code",
   "execution_count": 2,
   "metadata": {},
   "outputs": [],
   "source": [
    "S = TypeVar('S')"
   ]
  },
  {
   "cell_type": "markdown",
   "metadata": {},
   "source": [
    "### Problem 1 & 3: Tabular MC Prediction from scratch"
   ]
  },
  {
   "cell_type": "code",
   "execution_count": 3,
   "metadata": {},
   "outputs": [],
   "source": [
    "def tab_mc_prediction(trs: Iterable[Iterable[ReturnStep[S]]],\n",
    "                      weight_func: Callable[[int],float],\n",
    "                      gamma: float,\n",
    "                      tol: float = 1e-06) -> List[Mapping[S,float]]:\n",
    "    \n",
    "    episodes = [returns(trace,gamma,tol) for trace in trs]\n",
    "    \n",
    "    v: List[Mapping[S,float]] = []\n",
    "    occurence: Mapping[S,int] = defaultdict(lambda:0)\n",
    "        \n",
    "    for episode in episodes:\n",
    "        if len(v) == 0:\n",
    "            curr_v : Mapping[S,float] = defaultdict(lambda:0)\n",
    "        else:\n",
    "            curr_v : Mapping[S,float] = {k:var for (k,var) in v[-1].items()}\n",
    "        for st in episode:\n",
    "            occurence[st.state] += 1\n",
    "            curr_v[st.state] = curr_v[st.state]*(1-weight_func(occurence[st.state])) +\\\n",
    "                weight_func(occurence[st.state])*st.return_\n",
    "        v.append(curr_v)\n",
    "        \n",
    "    return v"
   ]
  },
  {
   "cell_type": "markdown",
   "metadata": {},
   "source": [
    "#### Verify Correctness"
   ]
  },
  {
   "cell_type": "code",
   "execution_count": 4,
   "metadata": {},
   "outputs": [],
   "source": [
    "user_capacity = 2\n",
    "user_poisson_lambda = 1.0\n",
    "user_holding_cost = 1.0\n",
    "user_stockout_cost = 10.0\n",
    "\n",
    "user_gamma = 0.9\n",
    "\n",
    "si_mrp = SimpleInventoryMRPFinite(\n",
    "    capacity=user_capacity,\n",
    "    poisson_lambda=user_poisson_lambda,\n",
    "    holding_cost=user_holding_cost,\n",
    "    stockout_cost=user_stockout_cost\n",
    ")\n",
    "\n",
    "start = InventoryState(on_hand = 0, on_order = 0)\n",
    "sample = [list(itertools.islice(si_mrp.simulate_reward(Constant(start)),1000)) \n",
    "          for _ in range(100)]"
   ]
  },
  {
   "cell_type": "code",
   "execution_count": 5,
   "metadata": {},
   "outputs": [],
   "source": [
    "res_1 = tab_mc_prediction(sample, lambda n: 1./n, user_gamma)[-1]"
   ]
  },
  {
   "cell_type": "code",
   "execution_count": 6,
   "metadata": {},
   "outputs": [],
   "source": [
    "approx = Tabular()\n",
    "res_2 = last(mc_prediction(sample,approx,user_gamma)).values_map"
   ]
  },
  {
   "cell_type": "code",
   "execution_count": 7,
   "metadata": {},
   "outputs": [
    {
     "name": "stdout",
     "output_type": "stream",
     "text": [
      "State InventoryState(on_hand=0, on_order=0): -35.3453 vs. -35.3453\n",
      "State InventoryState(on_hand=0, on_order=2): -28.1484 vs. -28.1484\n",
      "State InventoryState(on_hand=2, on_order=0): -30.2016 vs. -30.2016\n",
      "State InventoryState(on_hand=1, on_order=0): -28.8796 vs. -28.8796\n",
      "State InventoryState(on_hand=0, on_order=1): -28.0361 vs. -28.0361\n",
      "State InventoryState(on_hand=1, on_order=1): -29.3778 vs. -29.3778\n"
     ]
    }
   ],
   "source": [
    "for k in res_1:\n",
    "    print(f\"State {k}: %.4f vs. %.4f\"%(res_1[k],res_2[k]))"
   ]
  },
  {
   "cell_type": "markdown",
   "metadata": {},
   "source": [
    "### Problem 2 & 3: Tabular TD Prediction from scratch"
   ]
  },
  {
   "cell_type": "code",
   "execution_count": 8,
   "metadata": {},
   "outputs": [],
   "source": [
    "def tab_td_prediction(trans: Iterable[TransitionStep[S]],\n",
    "                      weight_func: Callable[[int],float],\n",
    "                      gamma: float) -> List[Mapping[S,float]]:\n",
    "    \n",
    "    v: Mapping[S,float] = defaultdict(lambda:0)\n",
    "    occurence: Mapping[S,int] = defaultdict(lambda:0)\n",
    "    all_v: List[Mapping[S,float]] = []\n",
    "        \n",
    "    for st in trans:\n",
    "            occurence[st.state] += 1\n",
    "            v[st.state] += weight_func(occurence[st.state])*(st.reward + gamma*v[st.next_state]\n",
    "                                                             - v[st.state])\n",
    "            all_v.append(v)\n",
    "\n",
    "    return all_v"
   ]
  },
  {
   "cell_type": "markdown",
   "metadata": {},
   "source": [
    "#### Verify correctness"
   ]
  },
  {
   "cell_type": "code",
   "execution_count": 9,
   "metadata": {},
   "outputs": [],
   "source": [
    "start = InventoryState(on_hand = 0, on_order = 0)\n",
    "sample = list(itertools.islice(si_mrp.simulate_reward(Constant(start)),100000))"
   ]
  },
  {
   "cell_type": "code",
   "execution_count": 10,
   "metadata": {},
   "outputs": [],
   "source": [
    "res_1 = tab_td_prediction(sample, lambda n: 1./n, user_gamma)[-1]"
   ]
  },
  {
   "cell_type": "code",
   "execution_count": 11,
   "metadata": {},
   "outputs": [],
   "source": [
    "approx = Tabular()\n",
    "res_2 = last(td_prediction(sample,approx,user_gamma)).values_map"
   ]
  },
  {
   "cell_type": "code",
   "execution_count": 12,
   "metadata": {},
   "outputs": [
    {
     "name": "stdout",
     "output_type": "stream",
     "text": [
      "State InventoryState(on_hand=0, on_order=0): -25.4490 vs. -25.4490\n",
      "State InventoryState(on_hand=0, on_order=2): -18.2953 vs. -18.2953\n",
      "State InventoryState(on_hand=1, on_order=0): -18.9741 vs. -18.9741\n",
      "State InventoryState(on_hand=0, on_order=1): -17.9702 vs. -17.9702\n",
      "State InventoryState(on_hand=1, on_order=1): -19.3000 vs. -19.3000\n",
      "State InventoryState(on_hand=2, on_order=0): -20.3084 vs. -20.3084\n"
     ]
    }
   ],
   "source": [
    "for k in res_1:\n",
    "    print(f\"State {k}: %.4f vs. %.4f\"%(res_1[k],res_2[k]))"
   ]
  },
  {
   "cell_type": "markdown",
   "metadata": {},
   "source": [
    "### Problem 4: Extend RandomWalkMRP"
   ]
  },
  {
   "cell_type": "code",
   "execution_count": null,
   "metadata": {},
   "outputs": [],
   "source": []
  }
 ],
 "metadata": {
  "kernelspec": {
   "display_name": "Python 3",
   "language": "python",
   "name": "python3"
  },
  "language_info": {
   "codemirror_mode": {
    "name": "ipython",
    "version": 3
   },
   "file_extension": ".py",
   "mimetype": "text/x-python",
   "name": "python",
   "nbconvert_exporter": "python",
   "pygments_lexer": "ipython3",
   "version": "3.7.6"
  }
 },
 "nbformat": 4,
 "nbformat_minor": 4
}
