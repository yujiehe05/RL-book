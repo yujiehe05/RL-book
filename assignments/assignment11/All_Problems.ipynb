{
 "cells": [
  {
   "cell_type": "code",
   "execution_count": 119,
   "metadata": {},
   "outputs": [],
   "source": [
    "# import packages needed\n",
    "import sys\n",
    "sys.path.append('/Users/yujiehe/Desktop/Stanford/Win2021/CME241/RL-book/')\n",
    "\n",
    "import itertools\n",
    "import numpy as np\n",
    "\n",
    "from typing import Iterable, Callable, Mapping, TypeVar\n",
    "from rl.markov_process import TransitionStep\n",
    "from rl.returns import returns\n",
    "from rl.function_approx import Tabular\n",
    "from rl.iterate import last\n",
    "\n",
    "from rl.chapter2.simple_inventory_mrp import SimpleInventoryMRPFinite, InventoryState\n",
    "from rl.monte_carlo import mc_prediction\n",
    "from rl.td import td_prediction\n",
    "\n",
    "from rl.distribution import Constant"
   ]
  },
  {
   "cell_type": "code",
   "execution_count": 120,
   "metadata": {},
   "outputs": [],
   "source": [
    "S = TypeVar('S')"
   ]
  },
  {
   "cell_type": "markdown",
   "metadata": {},
   "source": [
    "### Problem 1 & 3: Tabular MC Prediction from scratch"
   ]
  },
  {
   "cell_type": "code",
   "execution_count": 79,
   "metadata": {},
   "outputs": [],
   "source": [
    "def tab_mc_prediction(trs: Iterable[Iterable[TransitionStep[S]]],\n",
    "                      weight_func: Callable[[int],float],\n",
    "                      gamma: float,\n",
    "                      tol: float = 1e-06):\n",
    "    \n",
    "    episodes = [returns(trace,gamma,tol) for trace in trs]\n",
    "    \n",
    "    v: List[Mapping[S,float]] = []\n",
    "    occurence: Mapping[S,int] = {}\n",
    "        \n",
    "    for episode in episodes:\n",
    "        if len(v) == 0:\n",
    "            curr_v : Mapping[S,float] = {}\n",
    "        else:\n",
    "            curr_v : Mapping[S,float] = {k:var for (k,var) in v[-1].items()}\n",
    "        for st in episode:\n",
    "            if st.state in curr_v:\n",
    "                occurence[st.state] += 1\n",
    "                curr_v[st.state] = curr_v[st.state]*(1-weight_func(occurence[st.state])) +\\\n",
    "                    weight_func(occurence[st.state])*st.return_\n",
    "            else:\n",
    "                occurence[st.state] = 1\n",
    "                curr_v[st.state] = st.return_\n",
    "        v.append(curr_v)\n",
    "        \n",
    "    return v"
   ]
  },
  {
   "cell_type": "markdown",
   "metadata": {},
   "source": [
    "#### Verify Correctness"
   ]
  },
  {
   "cell_type": "code",
   "execution_count": 80,
   "metadata": {},
   "outputs": [],
   "source": [
    "user_capacity = 2\n",
    "user_poisson_lambda = 1.0\n",
    "user_holding_cost = 1.0\n",
    "user_stockout_cost = 10.0\n",
    "\n",
    "user_gamma = 0.9\n",
    "\n",
    "si_mrp = SimpleInventoryMRPFinite(\n",
    "    capacity=user_capacity,\n",
    "    poisson_lambda=user_poisson_lambda,\n",
    "    holding_cost=user_holding_cost,\n",
    "    stockout_cost=user_stockout_cost\n",
    ")\n",
    "\n",
    "start = InventoryState(on_hand = 0, on_order = 0)\n",
    "sample = [list(itertools.islice(si_mrp.simulate_reward(Constant(start)),1000)) for _ in range(100)]"
   ]
  },
  {
   "cell_type": "code",
   "execution_count": 81,
   "metadata": {},
   "outputs": [],
   "source": [
    "res_1 = tab_mc_prediction(sample, lambda n: 1./n, user_gamma)[-1]"
   ]
  },
  {
   "cell_type": "code",
   "execution_count": 82,
   "metadata": {},
   "outputs": [],
   "source": [
    "approx = Tabular()\n",
    "res_2 = last(mc_prediction(sample,approx,user_gamma)).values_map"
   ]
  },
  {
   "cell_type": "code",
   "execution_count": 83,
   "metadata": {},
   "outputs": [
    {
     "name": "stdout",
     "output_type": "stream",
     "text": [
      "State InventoryState(on_hand=0, on_order=0): -35.4726 vs. -35.4726\n",
      "State InventoryState(on_hand=0, on_order=2): -28.3194 vs. -28.3194\n",
      "State InventoryState(on_hand=2, on_order=0): -30.3644 vs. -30.3644\n",
      "State InventoryState(on_hand=1, on_order=0): -28.8852 vs. -28.8852\n",
      "State InventoryState(on_hand=1, on_order=1): -29.2384 vs. -29.2384\n",
      "State InventoryState(on_hand=0, on_order=1): -27.8437 vs. -27.8437\n"
     ]
    }
   ],
   "source": [
    "for k in res_1:\n",
    "    print(f\"State {k}: %.4f vs. %.4f\"%(res_1[k],res_2[k]))"
   ]
  },
  {
   "cell_type": "markdown",
   "metadata": {},
   "source": [
    "### Problem 2 & 3: Tabular TD Prediction from scratch"
   ]
  },
  {
   "cell_type": "code",
   "execution_count": 138,
   "metadata": {},
   "outputs": [],
   "source": [
    "def tab_td_prediction(trans: Iterable[TransitionStep[S]],\n",
    "                      weight_func: Callable[[int],float],\n",
    "                      gamma: float,\n",
    "                      tol: float = 1e-06):\n",
    "    \n",
    "    v: Mapping[S,float] = {}\n",
    "    occurence: Mapping[S,int] = {}\n",
    "        \n",
    "    for st in trans:\n",
    "        if st.state not in v or st.state not in occurence:\n",
    "            occurence[st.state] = 1\n",
    "            v[st.state] = st.reward            \n",
    "        else:\n",
    "            if st.next_state not in v:\n",
    "                v[st.next_state] = 0\n",
    "            occurence[st.state] += 1\n",
    "            v[st.state] += weight_func(occurence[st.state])*(st.reward + gamma*v[st.next_state] - v[st.state])\n",
    "\n",
    "    return v"
   ]
  },
  {
   "cell_type": "markdown",
   "metadata": {},
   "source": [
    "#### Verify correctness"
   ]
  },
  {
   "cell_type": "code",
   "execution_count": 134,
   "metadata": {},
   "outputs": [],
   "source": [
    "start = InventoryState(on_hand = 0, on_order = 0)\n",
    "sample = list(itertools.islice(si_mrp.simulate_reward(Constant(start)),10000))"
   ]
  },
  {
   "cell_type": "code",
   "execution_count": 139,
   "metadata": {},
   "outputs": [],
   "source": [
    "res_1 = tab_td_prediction(sample, lambda n: 1./n, user_gamma)"
   ]
  },
  {
   "cell_type": "code",
   "execution_count": 140,
   "metadata": {},
   "outputs": [],
   "source": [
    "approx = Tabular()\n",
    "res_2 = last(td_prediction(sample,approx,user_gamma)).values_map"
   ]
  },
  {
   "cell_type": "code",
   "execution_count": 141,
   "metadata": {},
   "outputs": [
    {
     "name": "stdout",
     "output_type": "stream",
     "text": [
      "State InventoryState(on_hand=0, on_order=0): -22.3340 vs. -22.5776\n",
      "State InventoryState(on_hand=0, on_order=2): -15.2498 vs. -15.4944\n",
      "State InventoryState(on_hand=1, on_order=0): -15.9268 vs. -16.1674\n",
      "State InventoryState(on_hand=0, on_order=1): -14.8432 vs. -15.0843\n",
      "State InventoryState(on_hand=1, on_order=1): -16.3485 vs. -16.5944\n",
      "State InventoryState(on_hand=2, on_order=0): -17.2552 vs. -17.5019\n"
     ]
    }
   ],
   "source": [
    "for k in res_1:\n",
    "    print(f\"State {k}: %.4f vs. %.4f\"%(res_1[k],res_2[k]))"
   ]
  },
  {
   "cell_type": "markdown",
   "metadata": {},
   "source": [
    "Why different?"
   ]
  },
  {
   "cell_type": "markdown",
   "metadata": {},
   "source": [
    "### Problem 4: Extend RandomWalkMRP"
   ]
  },
  {
   "cell_type": "code",
   "execution_count": null,
   "metadata": {},
   "outputs": [],
   "source": []
  }
 ],
 "metadata": {
  "kernelspec": {
   "display_name": "Python 3",
   "language": "python",
   "name": "python3"
  },
  "language_info": {
   "codemirror_mode": {
    "name": "ipython",
    "version": 3
   },
   "file_extension": ".py",
   "mimetype": "text/x-python",
   "name": "python",
   "nbconvert_exporter": "python",
   "pygments_lexer": "ipython3",
   "version": "3.7.6"
  }
 },
 "nbformat": 4,
 "nbformat_minor": 4
}
