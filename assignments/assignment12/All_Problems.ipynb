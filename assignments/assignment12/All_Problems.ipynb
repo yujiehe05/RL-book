{
 "cells": [
  {
   "cell_type": "markdown",
   "metadata": {},
   "source": [
    "# Assignment 12"
   ]
  },
  {
   "cell_type": "code",
   "execution_count": 1,
   "metadata": {},
   "outputs": [],
   "source": [
    "# import packages needed\n",
    "import itertools\n",
    "import numpy as np\n",
    "import pandas as pd\n",
    "import matplotlib.pyplot as plt\n",
    "\n",
    "from typing import Iterable, Callable, Mapping, TypeVar, List\n",
    "from rl.markov_process import TransitionStep\n",
    "from rl.returns import returns\n",
    "from rl.function_approx import Tabular, FunctionApprox\n",
    "from rl.dynamic_programming import evaluate_mrp_result\n",
    "from rl.iterate import last\n",
    "from collections import defaultdict\n",
    "from copy import deepcopy\n",
    "\n",
    "from rl.chapter2.simple_inventory_mrp import SimpleInventoryMRPFinite, InventoryState\n",
    "from rl.monte_carlo import mc_prediction\n",
    "from rl.td import td_prediction\n",
    "\n",
    "from rl.distribution import Constant"
   ]
  },
  {
   "cell_type": "code",
   "execution_count": 2,
   "metadata": {},
   "outputs": [],
   "source": [
    "S = TypeVar('S')"
   ]
  },
  {
   "cell_type": "markdown",
   "metadata": {},
   "source": [
    "### Problem 1"
   ]
  },
  {
   "cell_type": "code",
   "execution_count": 3,
   "metadata": {},
   "outputs": [],
   "source": [
    "# Tabular First\n",
    "def tab_n_bootstrap(trans: Iterable[TransitionStep[S]],\n",
    "                    n: int,\n",
    "                    weight_func: Callable[[int],float],\n",
    "                    gamma: float) -> List[Mapping[S,float]]:\n",
    "    \n",
    "    v: Mapping[S,float] = defaultdict(lambda:0)\n",
    "    occurence: Mapping[S,int] = defaultdict(lambda:0)\n",
    "\n",
    "    all_v:List[Mapping[S,float]] = []\n",
    "    \n",
    "    data:list = list(trans)\n",
    "    \n",
    "    for i in range(len(data)):\n",
    "        \n",
    "        if i+n < len(data):\n",
    "            G_tn:float = data[i].reward - v[data[i].state]\n",
    "            for j in range(1,n):\n",
    "                G_tn += gamma**i*data[j+i].reward\n",
    "            G_tn += gamma**n*v[data[n+i].state]\n",
    "            occurence[data[i].state] += 1\n",
    "            v[data[i].state] += weight_func(occurence[data[i].state])*G_tn\n",
    "            all_v.append(v)\n",
    "\n",
    "    return all_v"
   ]
  },
  {
   "cell_type": "code",
   "execution_count": 4,
   "metadata": {},
   "outputs": [],
   "source": [
    "# Using Function Approx\n",
    "def fa_n_bootstrap(trans: Iterable[TransitionStep[S]],\n",
    "                   n: int,\n",
    "                   approx: FunctionApprox[S],\n",
    "                   gamma: float)-> List[FunctionApprox[S]]:\n",
    "    \n",
    "    data:list = list(trans)\n",
    "        \n",
    "    all_approx:List[FunctionApprox[S]] = [approx]\n",
    "    \n",
    "    for i in range(len(data)):\n",
    "        \n",
    "        if i+n < len(data):\n",
    "            G_tn:float = data[i].reward\n",
    "            for j in range(1,n):\n",
    "                G_tn += gamma**i*data[j+i].reward\n",
    "            G_tn += gamma**n*all_approx[-1](data[n+i].state)\n",
    "            all_approx.append(all_approx[-1].update([(data[i].state,G_tn)]))\n",
    "\n",
    "    return all_approx"
   ]
  },
  {
   "cell_type": "code",
   "execution_count": 5,
   "metadata": {},
   "outputs": [],
   "source": [
    "# Test above correctness\n",
    "user_capacity = 2\n",
    "user_poisson_lambda = 1.0\n",
    "user_holding_cost = 1.0\n",
    "user_stockout_cost = 10.0\n",
    "\n",
    "user_gamma = 0.9\n",
    "\n",
    "si_mrp = SimpleInventoryMRPFinite(\n",
    "    capacity=user_capacity,\n",
    "    poisson_lambda=user_poisson_lambda,\n",
    "    holding_cost=user_holding_cost,\n",
    "    stockout_cost=user_stockout_cost\n",
    ")\n",
    "\n",
    "start = InventoryState(on_hand = 0, on_order = 0)\n",
    "sample = list(itertools.islice(si_mrp.simulate_reward(Constant(start)),100000))"
   ]
  },
  {
   "cell_type": "code",
   "execution_count": 6,
   "metadata": {},
   "outputs": [],
   "source": [
    "res_1 = tab_n_bootstrap(sample, 3, lambda n: 1./n, user_gamma)[-1]"
   ]
  },
  {
   "cell_type": "code",
   "execution_count": 7,
   "metadata": {},
   "outputs": [],
   "source": [
    "approx = Tabular()\n",
    "res_2 = fa_n_bootstrap(sample,3,approx,user_gamma)[-1].values_map"
   ]
  },
  {
   "cell_type": "code",
   "execution_count": 8,
   "metadata": {},
   "outputs": [
    {
     "name": "stdout",
     "output_type": "stream",
     "text": [
      "State InventoryState(on_hand=0, on_order=0): -17.5345 vs. -17.5345\n",
      "State InventoryState(on_hand=0, on_order=1): -10.0553 vs. -10.0553\n",
      "State InventoryState(on_hand=0, on_order=2): -8.3230 vs. -8.3230\n",
      "State InventoryState(on_hand=1, on_order=1): -9.3154 vs. -9.3154\n",
      "State InventoryState(on_hand=1, on_order=0): -11.0223 vs. -11.0223\n",
      "State InventoryState(on_hand=2, on_order=0): -10.3309 vs. -10.3309\n"
     ]
    }
   ],
   "source": [
    "for k in res_1:\n",
    "    print(f\"State {k}: %.4f vs. %.4f\"%(res_1[k],res_2[k]))"
   ]
  },
  {
   "cell_type": "markdown",
   "metadata": {},
   "source": [
    "### Problem 2"
   ]
  },
  {
   "cell_type": "code",
   "execution_count": 9,
   "metadata": {},
   "outputs": [],
   "source": [
    "# Tabular First\n",
    "def tab_td_lambda(trans: Iterable[TransitionStep[S]],\n",
    "                  weight_func: Callable[[int],float],\n",
    "                  gamma: float,\n",
    "                  lambda_: float) -> List[Mapping[S,float]]:\n",
    "    \n",
    "    v: Mapping[S,float] = defaultdict(lambda:0)\n",
    "    occurence: Mapping[S,int] = defaultdict(lambda:0)\n",
    "    e: Mapping[S,float] = defaultdict(lambda:0)\n",
    "    last_t: Mapping[S,int] = defaultdict(lambda:0)\n",
    "\n",
    "    all_v:List[Mapping[S,float]] = []\n",
    "    \n",
    "    count = 0\n",
    "    for st in trans:\n",
    "        count += 1\n",
    "        occurence[st.state] += 1\n",
    "        e[st.state] = (gamma*lambda_)**(count - last_t[st.state])*e[st.state] + 1\n",
    "        last_t[st.state] = count\n",
    "        v[st.state] += weight_func(occurence[st.state])*(st.reward + gamma*v[st.next_state]\n",
    "                                                         - v[st.state])*e[st.state]\n",
    "        all_v.append(v)\n",
    "\n",
    "    return all_v"
   ]
  },
  {
   "cell_type": "code",
   "execution_count": 10,
   "metadata": {},
   "outputs": [],
   "source": [
    "# Using Function Approx\n",
    "# TODO: Design for LinearApprox only\n",
    "def fa_td_lambda(trans: Iterable[TransitionStep[S]],\n",
    "                 n: int,\n",
    "                 approx: FunctionApprox[S],\n",
    "                 gamma: float):\n",
    "        \n",
    "    class wrapper_FA(FunctionApprox[S]):\n",
    "        \n",
    "        def __init__(self, approx: FunctionApprox[S]):\n",
    "            self.inner_approx: FunctionApprox[S] = approx\n",
    "                \n",
    "            self.v: Mapping[S,float] = defaultdict(lambda:0)\n",
    "            self.e: Mapping[S,float] = defaultdict(lambda:0)\n",
    "        \n",
    "        def representational_gradient(self, x_value: X) -> FunctionApprox[X]:\n",
    "            return approx.representational_gradient(X)\n",
    "        \n",
    "        def evaluate(self, x_values_seq: Iterable[X]) -> np.ndarray:\n",
    "            return approx.evaluate(x_values_seq)\n",
    "        \n",
    "        def update(self,xy_vals_seq: Iterable[Tuple[X, float]]) -> FunctionApprox[X]:\n",
    "            gradient: np.ndarray = self.regularized_loss_gradient(xy_vals_seq)\n",
    "            for k in self.e:\n",
    "                self.e[k] = gamma*lambda_*self.e[k]+gradient(k)\n",
    "            \n",
    "        \n",
    "\n",
    "    all_v:list[Mapping[S,float]] = []\n",
    "    \n",
    "    count = 0\n",
    "    for st in trans:\n",
    "        count += 1\n",
    "        occurence[st.state] += 1\n",
    "        e[st.state] = (gamma*lambda_)**(count - last_t[st.state])*e[st.state] + 1\n",
    "        last_t[st.state] = count\n",
    "        v[st.state] += weight_func(occurence[st.state])*(st.reward + gamma*v[st.next_state]\n",
    "                                                         - v[st.state])*e[st.state]\n",
    "        all_v.append(v)\n",
    "\n",
    "    return all_v"
   ]
  },
  {
   "cell_type": "markdown",
   "metadata": {},
   "source": [
    "Question:<br>\n",
    "How to construct TD($\\lambda$) for function approximation without creating a new FunctionApprox sub-class? If needed, how can we construct the sub-class without knowing what type the passed-in FunctionApprox is?"
   ]
  },
  {
   "cell_type": "markdown",
   "metadata": {},
   "source": [
    "### Problem 4"
   ]
  },
  {
   "cell_type": "code",
   "execution_count": 11,
   "metadata": {},
   "outputs": [],
   "source": [
    "# Test above correctness\n",
    "user_capacity = 2\n",
    "user_poisson_lambda = 1.0\n",
    "user_holding_cost = 1.0\n",
    "user_stockout_cost = 10.0\n",
    "\n",
    "user_gamma = 0.9\n",
    "\n",
    "si_mrp = SimpleInventoryMRPFinite(\n",
    "    capacity=user_capacity,\n",
    "    poisson_lambda=user_poisson_lambda,\n",
    "    holding_cost=user_holding_cost,\n",
    "    stockout_cost=user_stockout_cost\n",
    ")\n",
    "\n",
    "start = InventoryState(on_hand = 0, on_order = 0)\n",
    "sample = [list(itertools.islice(si_mrp.simulate_reward(Constant(start)),1000)) \n",
    "          for _ in range(100)]\n",
    "sample2 = [x for sublist in sample for x in sublist]"
   ]
  },
  {
   "cell_type": "code",
   "execution_count": 12,
   "metadata": {},
   "outputs": [],
   "source": [
    "approx = Tabular()\n",
    "res_mc = [x.values_map for x in mc_prediction(sample,approx,user_gamma)][-1]\n",
    "res_td = [x.values_map for x in td_prediction(sample2,approx,user_gamma)][-1]\n",
    "res_tdl = tab_td_lambda(sample2, lambda n: 1./n, user_gamma,0.9)[-1]\n",
    "res_dp = evaluate_mrp_result(si_mrp,user_gamma)"
   ]
  },
  {
   "cell_type": "code",
   "execution_count": 13,
   "metadata": {},
   "outputs": [
    {
     "name": "stdout",
     "output_type": "stream",
     "text": [
      "State InventoryState(on_hand=0, on_order=0): -35.5105 vs. -35.5298 vs. -25.2566 vs. -29.8098\n",
      "State InventoryState(on_hand=0, on_order=2): -28.3450 vs. -28.3826 vs. -18.1018 vs. -22.7377\n",
      "State InventoryState(on_hand=1, on_order=0): -28.9322 vs. -28.9036 vs. -18.7014 vs. -23.5237\n",
      "State InventoryState(on_hand=0, on_order=1): -27.9322 vs. -27.8913 vs. -17.6830 vs. -22.8020\n",
      "State InventoryState(on_hand=1, on_order=1): -29.3450 vs. -29.3663 vs. -19.0849 vs. -23.7462\n",
      "State InventoryState(on_hand=2, on_order=0): -30.3450 vs. -30.4458 vs. -20.1092 vs. -24.8970\n"
     ]
    }
   ],
   "source": [
    "for k in res_mc:\n",
    "    print(f\"State {k}: %.4f vs. %.4f vs. %.4f vs. %.4f\"%(\n",
    "        res_dp[k],res_mc[k],res_td[k],res_tdl[k]))"
   ]
  },
  {
   "cell_type": "markdown",
   "metadata": {},
   "source": [
    "Question:\n",
    "1. Why do the value functions converge from larger numbers to smaller ones?\n",
    "2. How to plot convergence?\n",
    "\n",
    "Observation:\n",
    "As $\\lambda$ approaches 0, TD($\\lambda$) approaches TD. As $\\lambda$ approaches 1, TD($\\lambda$) approaches MC. "
   ]
  }
 ],
 "metadata": {
  "kernelspec": {
   "display_name": "Python 3",
   "language": "python",
   "name": "python3"
  },
  "language_info": {
   "codemirror_mode": {
    "name": "ipython",
    "version": 3
   },
   "file_extension": ".py",
   "mimetype": "text/x-python",
   "name": "python",
   "nbconvert_exporter": "python",
   "pygments_lexer": "ipython3",
   "version": "3.7.6"
  }
 },
 "nbformat": 4,
 "nbformat_minor": 4
}
