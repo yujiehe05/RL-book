{
 "cells": [
  {
   "cell_type": "markdown",
   "metadata": {},
   "source": [
    "## Frog Puzzle\n",
    "\n",
    "Problem Statement:\n",
    "1. The frog has equal probability of landing on all the remaining steps;\n",
    "2. The problem has certain number of steps, which can be user defined. As we are expecting finite number of steps, we cap the maximum number of steps to be N = 100 and minimum number of steps to be N = 1."
   ]
  },
  {
   "cell_type": "code",
   "execution_count": 8,
   "metadata": {},
   "outputs": [],
   "source": [
    "#import section - use the abstract Markov Process class from rl directory\n",
    "from rl.markov_process import FiniteMarkovRewardProcess, RewardTransition\n",
    "from rl.distribution import Categorical\n",
    "from typing import Dict, Tuple\n",
    "import numpy as np\n",
    "import itertools\n",
    "import matplotlib.pyplot as plt"
   ]
  },
  {
   "cell_type": "code",
   "execution_count": 9,
   "metadata": {},
   "outputs": [],
   "source": [
    "class FrogFMRP(FiniteMarkovRewardProcess[int]):\n",
    "    \n",
    "    def __init__(self, N : int):\n",
    "                \n",
    "        self.N : int = max(min(N,100),1)\n",
    "        super().__init__(self.get_transition_reward_map())\n",
    "        \n",
    "    def get_transition_reward_map(self) -> RewardTransition[int]:\n",
    "        \n",
    "        trans_map: Dict[int, Categorical[Tuple[int,int]]] = \\\n",
    "            {i : Categorical({(j,1):float(1./(self.N-i)) for j in range(i+1,self.N+1)}) \n",
    "             for i in range(self.N)}\n",
    "            \n",
    "        trans_map[self.N] = None                 \n",
    "        \n",
    "        return trans_map"
   ]
  },
  {
   "cell_type": "code",
   "execution_count": 10,
   "metadata": {},
   "outputs": [
    {
     "name": "stdout",
     "output_type": "stream",
     "text": [
      "The average jumps to reach the other side is: 2.929.\n"
     ]
    }
   ],
   "source": [
    "# Test with the website's example:\n",
    "frogJump = FrogFMRP(N = 10)\n",
    "\n",
    "print(\"The average jumps to reach the other side is: %.3f.\"%(\n",
    "    frogJump.get_value_function_vec(gamma = 1)[0]))"
   ]
  },
  {
   "cell_type": "code",
   "execution_count": null,
   "metadata": {},
   "outputs": [],
   "source": []
  }
 ],
 "metadata": {
  "kernelspec": {
   "display_name": "Python 3",
   "language": "python",
   "name": "python3"
  },
  "language_info": {
   "codemirror_mode": {
    "name": "ipython",
    "version": 3
   },
   "file_extension": ".py",
   "mimetype": "text/x-python",
   "name": "python",
   "nbconvert_exporter": "python",
   "pygments_lexer": "ipython3",
   "version": "3.7.6"
  }
 },
 "nbformat": 4,
 "nbformat_minor": 4
}
