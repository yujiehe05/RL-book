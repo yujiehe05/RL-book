{
 "cells": [
  {
   "cell_type": "markdown",
   "metadata": {},
   "source": [
    "## Snakes and Ladders"
   ]
  },
  {
   "cell_type": "code",
   "execution_count": 44,
   "metadata": {},
   "outputs": [],
   "source": [
    "#import section - use the abstract Markov Process class from rl directory\n",
    "from rl.markov_process import MarkovProcess, FiniteMarkovProcess\n",
    "from rl.markov_process import Transition, FiniteMarkovRewardProcess, RewardTransition\n",
    "from rl.distribution import Categorical, Constant\n",
    "from typing import Dict, Tuple\n",
    "import numpy as np\n",
    "import itertools\n",
    "import matplotlib.pyplot as plt"
   ]
  },
  {
   "cell_type": "markdown",
   "metadata": {},
   "source": [
    "#### As Markov Process (Problem 1)\n",
    "Observations:\n",
    "1. State Space = {all integers from 0 to 100}, inclusive;\n",
    "2. The current state is all it needs to determine the next state - satisfying markov property;\n",
    "3. Every one state has equal probability of moving to one of the six possible next states, considering snakes and ladders;\n",
    "4. Players back up if they cannot exactly hit the 100.\n",
    "\n",
    "Therefore the followings need special attention:\n",
    "1. A dictionary of snakes and ladders, which maps from A to B, with snakes having A > B and ladders having A < B;\n",
    "2. Snakes and ladders cannot be possibly placed at the exact starting point. Likewise, two snakes or two ladders cannot be possibly placed at the exact starting point. Use key in dictionary to guarantee uniqueness;\n",
    "3. 100 is the terminal state. To model back up, for example, map 99 to one of {100,99,98,97,96,95}.\n",
    "\n",
    "Thus, the class (in general) will possibly need:\n",
    "1. N - A range of states, practically at least 2. In the example game of the website N = 100. In the example game on Piazza N = 100. To avoid going on forever, set maxN = 100. Any user-provided N > 100 will be set to 100;\n",
    "2. A dictionary setting snakes and ladders. Key = starting point and Value = ending point. Starting point can be one of the non-terminal states excluding 0. Ending point can be one of the states excluding 0. \n",
    "3. Initializer should set member variables and do sanity check.\n",
    "\n",
    "Formal answer:\n",
    "1. State space: {0,1,...,N}/{starting points of snakes or ladders}, non-terminal space: {0,1,...,N-1}/{starting points of snakes or ladders}. \n",
    "2. Each state can reach another six states with equal probability."
   ]
  },
  {
   "cell_type": "code",
   "execution_count": 45,
   "metadata": {},
   "outputs": [],
   "source": [
    "class SnakesAndLaddersMP(MarkovProcess[int]):\n",
    "    \n",
    "    def __init__(self, N : int, snakeladder : Dict[int, int]):\n",
    "        \n",
    "        if N > 100:\n",
    "            self.N : int = 100\n",
    "        else:\n",
    "            self.N : int = N\n",
    "            \n",
    "        for key, value in snakeladder.items():\n",
    "            if key <=0 or key  >= self.N:\n",
    "                print(\"Key %d does not satisfy requirement.\"%(key))\n",
    "                raise\n",
    "            if value<=0 or value > self.N:\n",
    "                print(\"Value %d does not satisfy requirement.\"%(value))\n",
    "                raise\n",
    "        \n",
    "        self.snakeladder = snakeladder\n",
    "    \n",
    "    def transition(self, state : int) -> Categorical[int]:\n",
    "        \n",
    "        if state < 0 or state > self.N:\n",
    "            print(\"State %d not in range.\"%(state))\n",
    "            raise\n",
    "            \n",
    "        if state in self.snakeladder.keys():\n",
    "            print(\"State %d not possible.\"%(state))\n",
    "            raise\n",
    "            \n",
    "        if state == self.N:\n",
    "            return None\n",
    "        \n",
    "        next_state : Dict[int, Categorical[int]] = {}\n",
    "        \n",
    "        for i in range(1,7):\n",
    "            if (state + i) in self.snakeladder:\n",
    "                next_state[self.snakeladder[state+i]] = 1./6.\n",
    "            elif (state + i) > self.N:\n",
    "                new_state : int = 2*self.N-state-i\n",
    "                if new_state in self.snakeladder and self.snakeladder[new_state] in next_state:\n",
    "                    next_state[self.snakeladder[new_state]] += 1./6.\n",
    "                elif new_state in self.snakeladder:\n",
    "                    next_state[self.snakeladder[new_state]] = 1./6.\n",
    "                elif new_state in next_state:\n",
    "                    next_state[new_state] += 1./6.\n",
    "                else:\n",
    "                    next_state[new_state] = 1./6.\n",
    "            else:\n",
    "                next_state[state+i] = 1./6.\n",
    "            \n",
    "        return Categorical(next_state)"
   ]
  },
  {
   "cell_type": "code",
   "execution_count": 46,
   "metadata": {},
   "outputs": [
    {
     "name": "stdout",
     "output_type": "stream",
     "text": [
      "{38: 0.16666666666666669, 2: 0.16666666666666669, 3: 0.16666666666666669, 14: 0.16666666666666669, 5: 0.16666666666666669, 6: 0.16666666666666669}\n",
      "{78: 0.33333333333333337, 99: 0.33333333333333337, 100: 0.16666666666666669, 97: 0.16666666666666669}\n"
     ]
    }
   ],
   "source": [
    "# Test with the website's example:\n",
    "snake_ladder : Dict[int,int] = {1:38,4:14,9:31,16:6,21:42,36:44,47:26,49:11,51:67,56:53,\n",
    "                                62:19,64:60,71:91,80:100,87:24,93:73,95:75,98:78}\n",
    "\n",
    "GameBoard = SnakesAndLaddersMP(N = 100, snakeladder = snake_ladder)\n",
    "\n",
    "print(GameBoard.transition(0).table())\n",
    "print(GameBoard.transition(97).table())"
   ]
  },
  {
   "cell_type": "code",
   "execution_count": 47,
   "metadata": {
    "scrolled": true
   },
   "outputs": [
    {
     "name": "stdout",
     "output_type": "stream",
     "text": [
      "{1: 0.16666666666666669, 2: 0.16666666666666669, 39: 0.16666666666666669, 4: 0.16666666666666669, 5: 0.16666666666666669, 6: 0.16666666666666669}\n",
      "{54: 0.33333333333333337, 99: 0.33333333333333337, 100: 0.16666666666666669, 97: 0.16666666666666669}\n"
     ]
    }
   ],
   "source": [
    "# Test with the Piazza example:\n",
    "snake_ladder : Dict[int,int] = {3:39,7:48,12:51,20:41,25:57,28:35,31:6,38:1,45:74,49:8,\n",
    "                                53:17,60:85,65:14,67:90,69:92,70:34,76:37,77:83,82:63,\n",
    "                                88:50,94:42,98:54}\n",
    "\n",
    "GameBoard = SnakesAndLaddersMP(N = 100, snakeladder = snake_ladder)\n",
    "\n",
    "print(GameBoard.transition(0).table())\n",
    "print(GameBoard.transition(97).table())"
   ]
  },
  {
   "cell_type": "markdown",
   "metadata": {},
   "source": [
    "#### As Finite Markov Process (Problem 2)"
   ]
  },
  {
   "cell_type": "code",
   "execution_count": 48,
   "metadata": {},
   "outputs": [],
   "source": [
    "class SnakesAndLaddersFMP(FiniteMarkovProcess[int]):\n",
    "    \n",
    "    def __init__(self, N : int, snakeladder : Dict[int, int]):\n",
    "        \n",
    "        self.mp = SnakesAndLaddersMP(N = N,snakeladder = snakeladder)\n",
    "        super().__init__(self.get_transition_map())\n",
    "        \n",
    "    def get_transition_map(self) -> Transition[int]:\n",
    "        \n",
    "        trans_map: Dict[int, Categorical[int]] = {}\n",
    "        for i in range(self.mp.N+1):\n",
    "            if i in self.mp.snakeladder.keys():\n",
    "                continue\n",
    "            trans_map[i] = self.mp.transition(i)\n",
    "        \n",
    "        return trans_map"
   ]
  },
  {
   "cell_type": "code",
   "execution_count": 49,
   "metadata": {},
   "outputs": [],
   "source": [
    "def snakesandladder_endtime(N : int, snakeladder : Dict[int, int],\n",
    "                            num_traces: int, maxround: int) -> np.array:\n",
    "    GameBoard = SnakesAndLaddersFMP(N = N, snakeladder = snakeladder)\n",
    "    start_state_dis = Constant(0)\n",
    "    return np.array([np.fromiter(\n",
    "        itertools.islice(GameBoard.simulate(start_state_dis),maxround),int).shape[0] \n",
    "        for _ in range(num_traces)])"
   ]
  },
  {
   "cell_type": "code",
   "execution_count": 50,
   "metadata": {},
   "outputs": [
    {
     "data": {
      "image/png": "[encoded data removed]",
      "text/plain": [
       "<Figure size 432x288 with 1 Axes>"
      ]
     },
     "metadata": {
      "needs_background": "light"
     },
     "output_type": "display_data"
    }
   ],
   "source": [
    "# Test with the website's example:\n",
    "snake_ladder : Dict[int,int] = {1:38,4:14,9:31,16:6,21:42,36:44,47:26,49:11,51:67,56:53,\n",
    "                                62:19,64:60,71:91,80:100,87:24,93:73,95:75,98:78}\n",
    "\n",
    "endtime_web = snakesandladder_endtime(N = 100, snakeladder = snake_ladder, \n",
    "                                      num_traces = 10000, maxround = 1000000)\n",
    "\n",
    "_ = plt.hist(endtime_web,bins = 50)"
   ]
  },
  {
   "cell_type": "code",
   "execution_count": 51,
   "metadata": {},
   "outputs": [
    {
     "data": {
      "image/png": "[encoded data removed]",
      "text/plain": [
       "<Figure size 432x288 with 1 Axes>"
      ]
     },
     "metadata": {
      "needs_background": "light"
     },
     "output_type": "display_data"
    }
   ],
   "source": [
    "# Test with the Piazza example:\n",
    "snake_ladder : Dict[int,int] = {3:39,7:48,12:51,20:41,25:57,28:35,31:6,38:1,45:74,49:8,\n",
    "                                53:17,60:85,65:14,67:90,69:92,70:34,76:37,77:83,82:63,\n",
    "                                88:50,94:42,98:54}\n",
    "\n",
    "endtime_p = snakesandladder_endtime(N = 100, snakeladder = snake_ladder, \n",
    "                                    num_traces = 10000, maxround = 1000000)\n",
    "\n",
    "_ = plt.hist(endtime_p,bins = 50)"
   ]
  },
  {
   "cell_type": "markdown",
   "metadata": {},
   "source": [
    "#### As Finite Markov Reward Process (Problem 4)\n",
    "The rewards model should be 1 for every state transition, regardless of what the next state will be. Intuitively, this means adding one more dice roll for every move. The discounting factor should be 1 since we are calculating the number of state transitions, or dice rolls. It does not make sense to discount it."
   ]
  },
  {
   "cell_type": "code",
   "execution_count": 52,
   "metadata": {},
   "outputs": [],
   "source": [
    "class SnakesAndLaddersFMRP(FiniteMarkovRewardProcess[int]):\n",
    "    \n",
    "    def __init__(self, N : int, snakeladder : Dict[int, int]):\n",
    "                \n",
    "        self.fmp = SnakesAndLaddersFMP(N = N, snakeladder = snakeladder)\n",
    "        super().__init__(self.get_transition_reward_map())\n",
    "        \n",
    "    def get_transition_reward_map(self) -> RewardTransition[int]:\n",
    "        \n",
    "        trans_map: Dict[int, Categorical[Tuple[int,int]]] = {}            \n",
    "        for i in range(self.fmp.mp.N+1):\n",
    "            if i in self.fmp.mp.snakeladder.keys():\n",
    "                continue\n",
    "            \n",
    "            if i == self.fmp.mp.N:\n",
    "                trans_map[i] = None\n",
    "                continue\n",
    "        \n",
    "            next_sr : Categorical[Tuple[int,int]] = \\\n",
    "                {(k,1):v for k,v in self.fmp.mp.transition(i).table().items()}                    \n",
    "            trans_map[i] = Categorical(next_sr)                    \n",
    "        \n",
    "        return trans_map"
   ]
  },
  {
   "cell_type": "code",
   "execution_count": 53,
   "metadata": {},
   "outputs": [
    {
     "name": "stdout",
     "output_type": "stream",
     "text": [
      "Expected number of dice rolls using FMRP: 54.1685\n",
      "Expected number of dice rolls using simulation from FMP: 55.8757\n"
     ]
    }
   ],
   "source": [
    "# Test with the website's example:\n",
    "snake_ladder : Dict[int,int] = {1:38,4:14,9:31,16:6,21:42,36:44,47:26,49:11,51:67,56:53,\n",
    "                                62:19,64:60,71:91,80:100,87:24,93:73,95:75,98:78}\n",
    "\n",
    "GameBoard = SnakesAndLaddersFMRP(N = 100, snakeladder = snake_ladder)\n",
    "\n",
    "print(\"Expected number of dice rolls using FMRP: %.4f\" \n",
    "      %(GameBoard.get_value_function_vec(gamma = 1)[0]))\n",
    "print(\"Expected number of dice rolls using simulation from FMP: %.4f\"\n",
    "      %(np.mean(endtime_web)))"
   ]
  },
  {
   "cell_type": "code",
   "execution_count": 54,
   "metadata": {},
   "outputs": [
    {
     "name": "stdout",
     "output_type": "stream",
     "text": [
      "Expected number of dice rolls using FMRP: 72.4186\n",
      "Expected number of dice rolls using simulation from FMP: 73.2956\n"
     ]
    }
   ],
   "source": [
    "# Test with the website's example:\n",
    "snake_ladder : Dict[int,int] = {3:39,7:48,12:51,20:41,25:57,28:35,31:6,38:1,45:74,49:8,\n",
    "                                53:17,60:85,65:14,67:90,69:92,70:34,76:37,77:83,82:63,\n",
    "                                88:50,94:42,98:54}\n",
    "\n",
    "GameBoard = SnakesAndLaddersFMRP(N = 100, snakeladder = snake_ladder)\n",
    "\n",
    "print(\"Expected number of dice rolls using FMRP: %.4f\" \n",
    "      %(GameBoard.get_value_function_vec(gamma = 1)[0]))\n",
    "print(\"Expected number of dice rolls using simulation from FMP: %.4f\"\n",
    "      %(np.mean(endtime_p)))"
   ]
  },
  {
   "cell_type": "code",
   "execution_count": null,
   "metadata": {},
   "outputs": [],
   "source": []
  }
 ],
 "metadata": {
  "kernelspec": {
   "display_name": "Python 3",
   "language": "python",
   "name": "python3"
  },
  "language_info": {
   "codemirror_mode": {
    "name": "ipython",
    "version": 3
   },
   "file_extension": ".py",
   "mimetype": "text/x-python",
   "name": "python",
   "nbconvert_exporter": "python",
   "pygments_lexer": "ipython3",
   "version": "3.7.6"
  }
 },
 "nbformat": 4,
 "nbformat_minor": 4
}
