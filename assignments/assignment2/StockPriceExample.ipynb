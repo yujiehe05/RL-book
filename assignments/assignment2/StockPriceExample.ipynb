{
 "cells": [
  {
   "cell_type": "markdown",
   "metadata": {},
   "source": [
    "## Stock Price Example\n",
    "In this problem, we choose the first stock price example. \n",
    "The experimental parameters are as follow:\n",
    "1. f is f(x) = 0.01\\*x;\n",
    "2. discount factor gamma = 0.7;\n",
    "3. level-param = 15;\n",
    "4. maximum round per simulation = 100;\n",
    "5. number of simulation per possible starting state = 100;\n",
    "6. possible starting state = {1,...,40}"
   ]
  },
  {
   "cell_type": "code",
   "execution_count": 26,
   "metadata": {},
   "outputs": [],
   "source": [
    "#import section - use the abstract Markov Process class from rl directory\n",
    "from rl.markov_process import MarkovRewardProcess\n",
    "from rl.distribution import SampledDistribution, Constant\n",
    "from rl.chapter2.stock_price_mp import StockPriceMP1, StateMP1\n",
    "from typing import Tuple, Callable\n",
    "import numpy as np\n",
    "import itertools\n",
    "import matplotlib.pyplot as plt"
   ]
  },
  {
   "cell_type": "code",
   "execution_count": 27,
   "metadata": {},
   "outputs": [],
   "source": [
    "class StockPriceMRP1(MarkovRewardProcess[StateMP1]):\n",
    "    \n",
    "    def __init__(self, level_param : int, f : Callable[[StateMP1],float]):\n",
    "                \n",
    "        self.mp = StockPriceMP1(level_param = level_param)\n",
    "        self.reward_func : Callable[[StateMP1],float] = f\n",
    "        \n",
    "    def transition_reward(self, state:StateMP1) -> SampledDistribution[Tuple[StateMP1,float]]:\n",
    "        \n",
    "        def sample_next_state_reward(state=state) -> Tuple[StateMP1,float]:\n",
    "            next_state : StateMP1 = self.mp.transition(state).sample()\n",
    "            reward: float = self.reward_func(next_state)\n",
    "            return next_state, reward\n",
    "        \n",
    "        return SampledDistribution(sample_next_state_reward)"
   ]
  },
  {
   "cell_type": "code",
   "execution_count": 28,
   "metadata": {},
   "outputs": [],
   "source": [
    "def get_value_function(level_param : int, f : Callable[[StateMP1],float], gamma : float, \n",
    "                       state : StateMP1, maxRound : int, num_traces : int) -> float:\n",
    "    \n",
    "    MRP1 = StockPriceMRP1(f = f, level_param = level_param)\n",
    "        \n",
    "    reward_mat : np.ndarray = np.vstack([np.fromiter((s.reward for s in itertools.islice(\n",
    "        MRP1.simulate_reward(start_state_distribution = Constant(state)),\n",
    "        maxRound + 1)),float) for _ in range(num_traces)])\n",
    "        \n",
    "    discount_vec: np.array = np.array([gamma**i for i in range(maxRound+1)])\n",
    "        \n",
    "    reward = np.dot(reward_mat,discount_vec)\n",
    "        \n",
    "    return np.mean(reward)"
   ]
  },
  {
   "cell_type": "code",
   "execution_count": 29,
   "metadata": {},
   "outputs": [
    {
     "data": {
      "image/png": "[encoded data removed]",
      "text/plain": [
       "<Figure size 432x288 with 1 Axes>"
      ]
     },
     "metadata": {
      "needs_background": "light"
     },
     "output_type": "display_data"
    }
   ],
   "source": [
    "# Test with a reward function example:\n",
    "def reward_function(state : StateMP1):\n",
    "    return 0.01 * state.price\n",
    "\n",
    "reward = [get_value_function(level_param = 15, f = reward_function, gamma = 0.7, \n",
    "                             state = StateMP1(i), maxRound = 100, num_traces = 100) \n",
    "          for i in range(1,41)]\n",
    "\n",
    "_ = plt.plot(reward)"
   ]
  },
  {
   "cell_type": "markdown",
   "metadata": {},
   "source": [
    "Simulated value function for each state:"
   ]
  },
  {
   "cell_type": "code",
   "execution_count": 30,
   "metadata": {},
   "outputs": [
    {
     "name": "stdout",
     "output_type": "stream",
     "text": [
      "With starting price 0, reward is 0.1290.\n",
      "With starting price 1, reward is 0.1636.\n",
      "With starting price 2, reward is 0.1904.\n",
      "With starting price 3, reward is 0.2233.\n",
      "With starting price 4, reward is 0.2452.\n",
      "With starting price 5, reward is 0.2750.\n",
      "With starting price 6, reward is 0.3000.\n",
      "With starting price 7, reward is 0.3337.\n",
      "With starting price 8, reward is 0.3517.\n",
      "With starting price 9, reward is 0.3843.\n",
      "With starting price 10, reward is 0.4084.\n",
      "With starting price 11, reward is 0.4341.\n",
      "With starting price 12, reward is 0.4562.\n",
      "With starting price 13, reward is 0.4756.\n",
      "With starting price 14, reward is 0.5065.\n",
      "With starting price 15, reward is 0.5255.\n",
      "With starting price 16, reward is 0.5448.\n",
      "With starting price 17, reward is 0.5676.\n",
      "With starting price 18, reward is 0.5966.\n",
      "With starting price 19, reward is 0.6200.\n",
      "With starting price 20, reward is 0.6436.\n",
      "With starting price 21, reward is 0.6645.\n",
      "With starting price 22, reward is 0.6932.\n",
      "With starting price 23, reward is 0.7214.\n",
      "With starting price 24, reward is 0.7509.\n",
      "With starting price 25, reward is 0.7777.\n",
      "With starting price 26, reward is 0.8098.\n",
      "With starting price 27, reward is 0.8382.\n",
      "With starting price 28, reward is 0.8654.\n",
      "With starting price 29, reward is 0.8996.\n",
      "With starting price 30, reward is 0.9311.\n",
      "With starting price 31, reward is 0.9608.\n",
      "With starting price 32, reward is 0.9957.\n",
      "With starting price 33, reward is 1.0250.\n",
      "With starting price 34, reward is 1.0591.\n",
      "With starting price 35, reward is 1.0919.\n",
      "With starting price 36, reward is 1.1239.\n",
      "With starting price 37, reward is 1.1567.\n",
      "With starting price 38, reward is 1.1895.\n",
      "With starting price 39, reward is 1.2237.\n"
     ]
    }
   ],
   "source": [
    "for i in range(len(reward)):\n",
    "    print(\"With starting price %d, reward is %.4f.\"%(i,reward[i]))"
   ]
  },
  {
   "cell_type": "code",
   "execution_count": null,
   "metadata": {},
   "outputs": [],
   "source": []
  }
 ],
 "metadata": {
  "kernelspec": {
   "display_name": "Python 3",
   "language": "python",
   "name": "python3"
  },
  "language_info": {
   "codemirror_mode": {
    "name": "ipython",
    "version": 3
   },
   "file_extension": ".py",
   "mimetype": "text/x-python",
   "name": "python",
   "nbconvert_exporter": "python",
   "pygments_lexer": "ipython3",
   "version": "3.7.6"
  }
 },
 "nbformat": 4,
 "nbformat_minor": 4
}
